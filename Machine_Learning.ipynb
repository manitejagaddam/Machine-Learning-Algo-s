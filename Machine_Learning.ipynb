{
  "nbformat": 4,
  "nbformat_minor": 0,
  "metadata": {
    "colab": {
      "provenance": [],
      "toc_visible": true,
      "authorship_tag": "ABX9TyNRon2Eqp4cPAO+rlPX6ydW",
      "include_colab_link": true
    },
    "kernelspec": {
      "name": "python3",
      "display_name": "Python 3"
    },
    "language_info": {
      "name": "python"
    }
  },
  "cells": [
    {
      "cell_type": "markdown",
      "metadata": {
        "id": "view-in-github",
        "colab_type": "text"
      },
      "source": [
        "<a href=\"https://colab.research.google.com/github/manitejagaddam/Machine-Learning-Algo-s/blob/Machine-Learning/Machine_Learning.ipynb\" target=\"_parent\"><img src=\"https://colab.research.google.com/assets/colab-badge.svg\" alt=\"Open In Colab\"/></a>"
      ]
    },
    {
      "cell_type": "markdown",
      "source": [
        "Simple Linear Regression\n"
      ],
      "metadata": {
        "id": "UujpPpCDPtY5"
      }
    },
    {
      "cell_type": "markdown",
      "source": [
        "In the below example height is independent variable and the weight is dependent variable\n",
        "\n",
        "\n",
        "so the equation of the regression would become as :\n",
        "**weight = stats.coef_*height + stats.intercept_**"
      ],
      "metadata": {
        "id": "-piD5a8FY5TN"
      }
    },
    {
      "cell_type": "code",
      "source": [
        "import numpy as np\n",
        "import pandas as pd\n",
        "import matplotlib.pyplot as plt\n",
        "from sklearn import linear_model\n",
        "from scipy import stats"
      ],
      "metadata": {
        "id": "y19cqNpZPw1l"
      },
      "execution_count": null,
      "outputs": []
    },
    {
      "cell_type": "code",
      "source": [
        "height = np.random.randint(130,180,size = 50)\n",
        "weight = np.random.randint(50, 80, size = 50)"
      ],
      "metadata": {
        "id": "u6RqHAzUQAVi"
      },
      "execution_count": null,
      "outputs": []
    },
    {
      "cell_type": "code",
      "source": [
        "print(\"Height: \", height)\n",
        "print(\"Weights : \",weight)"
      ],
      "metadata": {
        "colab": {
          "base_uri": "https://localhost:8080/"
        },
        "id": "byhJEAl1QA2d",
        "outputId": "a9a23ab8-89d4-4457-8514-e3b8f8a33f9f"
      },
      "execution_count": null,
      "outputs": [
        {
          "output_type": "stream",
          "name": "stdout",
          "text": [
            "Height:  [177 165 165 162 173 140 139 133 131 151 134 142 174 134 158 155 131 140\n",
            " 143 146 162 174 153 137 160 134 138 153 165 150 149 175 179 159 153 141\n",
            " 137 147 168 135 160 177 148 144 179 145 136 158 149 161]\n",
            "Weights :  [52 61 79 77 78 59 52 69 55 79 69 53 58 68 61 58 63 51 70 66 52 77 78 73\n",
            " 73 52 71 62 56 52 79 76 64 58 62 51 53 57 57 51 62 79 61 74 67 70 74 77\n",
            " 78 64]\n"
          ]
        }
      ]
    },
    {
      "cell_type": "code",
      "source": [
        "print(\"Skewness of Height is \", stats.skew(height))\n",
        "print(\"Kurtosis of Height is \",stats.kurtosis(height))\n",
        "print(\"Skewness of Weight is \", stats.skew(weight))\n",
        "print(\"Kurtosis of Height is \",stats.kurtosis(weight))"
      ],
      "metadata": {
        "colab": {
          "base_uri": "https://localhost:8080/"
        },
        "id": "DlXnNdMaQA5D",
        "outputId": "4bf822c2-0b45-4b3f-96e3-43a645ed695f"
      },
      "execution_count": null,
      "outputs": [
        {
          "output_type": "stream",
          "name": "stdout",
          "text": [
            "Skewness of Height is  0.3061282989614967\n",
            "Kurtosis of Height is  -1.0602969265491795\n",
            "Skewness of Weight is  0.08094987165263266\n",
            "Kurtosis of Height is  -1.3717757050391404\n"
          ]
        }
      ]
    },
    {
      "cell_type": "code",
      "source": [
        "print(\"Spearman's correlation : \",stats.spearmanr(height,weight))\n",
        "print(\"Pearson's correlation : \",stats.pearsonr(height,weight))"
      ],
      "metadata": {
        "colab": {
          "base_uri": "https://localhost:8080/"
        },
        "id": "MIyXbZQJQA7z",
        "outputId": "3160ab0a-5428-4275-a84a-97a05f1f25c6"
      },
      "execution_count": null,
      "outputs": [
        {
          "output_type": "stream",
          "name": "stdout",
          "text": [
            "Spearman's correlation :  SignificanceResult(statistic=0.214304710969499, pvalue=0.13505565329393082)\n",
            "Pearson's correlation :  PearsonRResult(statistic=0.21135555406597134, pvalue=0.14064008685621807)\n"
          ]
        }
      ]
    },
    {
      "cell_type": "code",
      "source": [
        "plt.scatter(height,weight)\n",
        "plt.xlabel(\"Height\")\n",
        "plt.ylabel(\"Weight\")\n",
        "plt.title(\"Scatter plot between Height and Weight\")\n",
        "plt.show()"
      ],
      "metadata": {
        "colab": {
          "base_uri": "https://localhost:8080/",
          "height": 472
        },
        "id": "sK-rQ1S-X1cb",
        "outputId": "da0e1b9d-999d-43ba-dfb2-325f0835a768"
      },
      "execution_count": null,
      "outputs": [
        {
          "output_type": "display_data",
          "data": {
            "text/plain": [
              "<Figure size 640x480 with 1 Axes>"
            ],
            "image/png": "[encoded data removed]"
          },
          "metadata": {}
        }
      ]
    },
    {
      "cell_type": "code",
      "source": [
        "heightdf = pd.DataFrame(height)\n",
        "weightdf = pd.DataFrame(weight)"
      ],
      "metadata": {
        "id": "fiCbkmmjQA-f"
      },
      "execution_count": null,
      "outputs": []
    },
    {
      "cell_type": "code",
      "source": [
        "model = linear_model.LinearRegression()"
      ],
      "metadata": {
        "id": "f-V48zgIQBA8"
      },
      "execution_count": null,
      "outputs": []
    },
    {
      "cell_type": "code",
      "source": [
        "model.fit(heightdf,weightdf)"
      ],
      "metadata": {
        "colab": {
          "base_uri": "https://localhost:8080/",
          "height": 51
        },
        "id": "JmyTAB4CQBDe",
        "outputId": "b55159e7-fecd-40a0-c8aa-362488401037"
      },
      "execution_count": null,
      "outputs": [
        {
          "output_type": "execute_result",
          "data": {
            "text/plain": [
              "LinearRegression()"
            ],
            "text/html": [
              "<style>#sk-container-id-1 {color: black;background-color: white;}#sk-container-id-1 pre{padding: 0;}#sk-container-id-1 div.sk-toggleable {background-color: white;}#sk-container-id-1 label.sk-toggleable__label {cursor: pointer;display: block;width: 100%;margin-bottom: 0;padding: 0.3em;box-sizing: border-box;text-align: center;}#sk-container-id-1 label.sk-toggleable__label-arrow:before {content: \"▸\";float: left;margin-right: 0.25em;color: #696969;}#sk-container-id-1 label.sk-toggleable__label-arrow:hover:before {color: black;}#sk-container-id-1 div.sk-estimator:hover label.sk-toggleable__label-arrow:before {color: black;}#sk-container-id-1 div.sk-toggleable__content {max-height: 0;max-width: 0;overflow: hidden;text-align: left;background-color: #f0f8ff;}#sk-container-id-1 div.sk-toggleable__content pre {margin: 0.2em;color: black;border-radius: 0.25em;background-color: #f0f8ff;}#sk-container-id-1 input.sk-toggleable__control:checked~div.sk-toggleable__content {max-height: 200px;max-width: 100%;overflow: auto;}#sk-container-id-1 input.sk-toggleable__control:checked~label.sk-toggleable__label-arrow:before {content: \"▾\";}#sk-container-id-1 div.sk-estimator input.sk-toggleable__control:checked~label.sk-toggleable__label {background-color: #d4ebff;}#sk-container-id-1 div.sk-label input.sk-toggleable__control:checked~label.sk-toggleable__label {background-color: #d4ebff;}#sk-container-id-1 input.sk-hidden--visually {border: 0;clip: rect(1px 1px 1px 1px);clip: rect(1px, 1px, 1px, 1px);height: 1px;margin: -1px;overflow: hidden;padding: 0;position: absolute;width: 1px;}#sk-container-id-1 div.sk-estimator {font-family: monospace;background-color: #f0f8ff;border: 1px dotted black;border-radius: 0.25em;box-sizing: border-box;margin-bottom: 0.5em;}#sk-container-id-1 div.sk-estimator:hover {background-color: #d4ebff;}#sk-container-id-1 div.sk-parallel-item::after {content: \"\";width: 100%;border-bottom: 1px solid gray;flex-grow: 1;}#sk-container-id-1 div.sk-label:hover label.sk-toggleable__label {background-color: #d4ebff;}#sk-container-id-1 div.sk-serial::before {content: \"\";position: absolute;border-left: 1px solid gray;box-sizing: border-box;top: 0;bottom: 0;left: 50%;z-index: 0;}#sk-container-id-1 div.sk-serial {display: flex;flex-direction: column;align-items: center;background-color: white;padding-right: 0.2em;padding-left: 0.2em;position: relative;}#sk-container-id-1 div.sk-item {position: relative;z-index: 1;}#sk-container-id-1 div.sk-parallel {display: flex;align-items: stretch;justify-content: center;background-color: white;position: relative;}#sk-container-id-1 div.sk-item::before, #sk-container-id-1 div.sk-parallel-item::before {content: \"\";position: absolute;border-left: 1px solid gray;box-sizing: border-box;top: 0;bottom: 0;left: 50%;z-index: -1;}#sk-container-id-1 div.sk-parallel-item {display: flex;flex-direction: column;z-index: 1;position: relative;background-color: white;}#sk-container-id-1 div.sk-parallel-item:first-child::after {align-self: flex-end;width: 50%;}#sk-container-id-1 div.sk-parallel-item:last-child::after {align-self: flex-start;width: 50%;}#sk-container-id-1 div.sk-parallel-item:only-child::after {width: 0;}#sk-container-id-1 div.sk-dashed-wrapped {border: 1px dashed gray;margin: 0 0.4em 0.5em 0.4em;box-sizing: border-box;padding-bottom: 0.4em;background-color: white;}#sk-container-id-1 div.sk-label label {font-family: monospace;font-weight: bold;display: inline-block;line-height: 1.2em;}#sk-container-id-1 div.sk-label-container {text-align: center;}#sk-container-id-1 div.sk-container {/* jupyter's `normalize.less` sets `[hidden] { display: none; }` but bootstrap.min.css set `[hidden] { display: none !important; }` so we also need the `!important` here to be able to override the default hidden behavior on the sphinx rendered scikit-learn.org. See: https://github.com/scikit-learn/scikit-learn/issues/21755 */display: inline-block !important;position: relative;}#sk-container-id-1 div.sk-text-repr-fallback {display: none;}</style><div id=\"sk-container-id-1\" class=\"sk-top-container\"><div class=\"sk-text-repr-fallback\"><pre>LinearRegression()</pre><b>In a Jupyter environment, please rerun this cell to show the HTML representation or trust the notebook. <br />On GitHub, the HTML representation is unable to render, please try loading this page with nbviewer.org.</b></div><div class=\"sk-container\" hidden><div class=\"sk-item\"><div class=\"sk-estimator sk-toggleable\"><input class=\"sk-toggleable__control sk-hidden--visually\" id=\"sk-estimator-id-1\" type=\"checkbox\" checked><label for=\"sk-estimator-id-1\" class=\"sk-toggleable__label sk-toggleable__label-arrow\">LinearRegression</label><div class=\"sk-toggleable__content\"><pre>LinearRegression()</pre></div></div></div></div></div>"
            ]
          },
          "metadata": {},
          "execution_count": 23
        }
      ]
    },
    {
      "cell_type": "code",
      "source": [
        "print(\"The value of Adjusted R^2 is : \",model.score(heightdf,weightdf))"
      ],
      "metadata": {
        "colab": {
          "base_uri": "https://localhost:8080/"
        },
        "id": "wGXu3D9MQBLC",
        "outputId": "7c5d6af6-0bb9-4aee-b1aa-21ef26f7198f"
      },
      "execution_count": null,
      "outputs": [
        {
          "output_type": "stream",
          "name": "stdout",
          "text": [
            "The value of Adjusted R^2 is :  0.0446711702345336\n"
          ]
        }
      ]
    },
    {
      "cell_type": "code",
      "source": [
        "print(\"Calculating the Coefficient and Intercept value: \")\n",
        "print(\"Coefficient : \", model.coef_)\n",
        "print(\"Intercept : \",model.intercept_)"
      ],
      "metadata": {
        "colab": {
          "base_uri": "https://localhost:8080/"
        },
        "id": "4SHbz-QkQBOL",
        "outputId": "9a03ddaf-0ff3-407e-d27e-0a802579a6f3"
      },
      "execution_count": null,
      "outputs": [
        {
          "output_type": "stream",
          "name": "stdout",
          "text": [
            "Calculating the Coefficient and Intercept value: \n",
            "Coefficient :  [[0.14043702]]\n",
            "Intercept :  [43.36020725]\n"
          ]
        }
      ]
    },
    {
      "cell_type": "code",
      "source": [
        "print(\"Working Data is complted in the model so lets try with the test data:\")\n",
        "testHeight = pd.DataFrame([124,145,167])"
      ],
      "metadata": {
        "colab": {
          "base_uri": "https://localhost:8080/"
        },
        "id": "F6voansfQBQx",
        "outputId": "a40ec9ba-2bf2-4445-fb27-b8c9a1756c93"
      },
      "execution_count": null,
      "outputs": [
        {
          "output_type": "stream",
          "name": "stdout",
          "text": [
            "Working Data is complted in the model so lets try with the test data:\n"
          ]
        }
      ]
    },
    {
      "cell_type": "code",
      "source": [
        "print(\"Predicted weight for 124 height is : \", model.predict(testHeight)[0])\n",
        "print(model.predict(testHeight))"
      ],
      "metadata": {
        "colab": {
          "base_uri": "https://localhost:8080/"
        },
        "id": "2bvHcKRjQBT3",
        "outputId": "15f9c595-dbc3-46dc-9f4c-6949d3a8a837"
      },
      "execution_count": null,
      "outputs": [
        {
          "output_type": "stream",
          "name": "stdout",
          "text": [
            "Predicted weight for 124 height is :  [60.77439744]\n",
            "[[60.77439744]\n",
            " [63.72357481]\n",
            " [66.8131892 ]]\n"
          ]
        }
      ]
    },
    {
      "cell_type": "markdown",
      "source": [
        "In this exapme the weight would be **Independent variable (weight)** and the height would be **Dependent variable(height)**\n",
        "\n",
        "\n",
        "\n",
        "So the euqation would becomes as:\n",
        "\n",
        "**height = stats.coef_*weight + stats.intercept_**"
      ],
      "metadata": {
        "id": "K3k1UD1TZcSK"
      }
    },
    {
      "cell_type": "code",
      "source": [
        "# creating a lists using numpy library.\n",
        "height = np.random.randint(150,170,size=50)\n",
        "weight = np.random.randint(50,70,size=50)"
      ],
      "metadata": {
        "id": "VuUXmqzhZ1qM"
      },
      "execution_count": null,
      "outputs": []
    },
    {
      "cell_type": "code",
      "source": [
        "print(\"Skewness of Height is : \",stats.skew(height))\n",
        "print(\"Kurtosis of Height is : \",stats.kurtosis(height))\n",
        "print(\"Skewness of Weight is : \",stats.skew(weight))\n",
        "print(\"Kurtosis of Weight is : \",stats.kurtosis(weight))"
      ],
      "metadata": {
        "colab": {
          "base_uri": "https://localhost:8080/"
        },
        "id": "wbTaqqnoZ2Yk",
        "outputId": "4b9e6c4d-47e5-40f7-e596-da4e0034b476"
      },
      "execution_count": null,
      "outputs": [
        {
          "output_type": "stream",
          "name": "stdout",
          "text": [
            "Skewness of Height is :  -0.10906425091445705\n",
            "Kurtosis of Height is :  -1.0142365711203705\n",
            "Skewness of Weight is :  -0.07379898626787086\n",
            "Kurtosis of Weight is :  -0.9360386804405074\n"
          ]
        }
      ]
    },
    {
      "cell_type": "code",
      "source": [
        "print(\"Pearson's : \",stats.pearsonr(weight,height))\n",
        "print(\"Spearmans : \",stats.spearmanr(weight,height))"
      ],
      "metadata": {
        "colab": {
          "base_uri": "https://localhost:8080/"
        },
        "id": "fWafCiWuZ2VP",
        "outputId": "f33b8cce-0192-41cb-d55d-7466e3fd5c12"
      },
      "execution_count": null,
      "outputs": [
        {
          "output_type": "stream",
          "name": "stdout",
          "text": [
            "Pearson's :  PearsonRResult(statistic=0.037918543723104825, pvalue=0.7937555703311546)\n",
            "Spearmans :  SignificanceResult(statistic=0.04280653609571698, pvalue=0.7678660146640777)\n"
          ]
        }
      ]
    },
    {
      "cell_type": "code",
      "source": [
        "plt.scatter(weight,height)\n",
        "plt.xlabel(\"Weight\")\n",
        "plt.ylabel(\"Height\")\n",
        "plt.title(\"A Scatter Graph between Height and Weight\")\n",
        "plt.show()"
      ],
      "metadata": {
        "colab": {
          "base_uri": "https://localhost:8080/",
          "height": 472
        },
        "id": "k6wTfvUqZ2Pl",
        "outputId": "de06a988-9c08-4353-c0a8-890da555b62e"
      },
      "execution_count": null,
      "outputs": [
        {
          "output_type": "display_data",
          "data": {
            "text/plain": [
              "<Figure size 640x480 with 1 Axes>"
            ],
            "image/png": "[encoded data removed]"
          },
          "metadata": {}
        }
      ]
    },
    {
      "cell_type": "code",
      "source": [
        "weightdf = pd.DataFrame(weight)\n",
        "heightdf = pd.DataFrame(height)"
      ],
      "metadata": {
        "id": "UuxoR76HZ2ML"
      },
      "execution_count": null,
      "outputs": []
    },
    {
      "cell_type": "code",
      "source": [
        "model1 = linear_model.LinearRegression()\n"
      ],
      "metadata": {
        "id": "e8QgF40UZ2J3"
      },
      "execution_count": null,
      "outputs": []
    },
    {
      "cell_type": "code",
      "source": [
        "model1.fit(weightdf, heightdf)"
      ],
      "metadata": {
        "colab": {
          "base_uri": "https://localhost:8080/",
          "height": 74
        },
        "id": "aLvS9YJGZ2HQ",
        "outputId": "8185aebe-d926-4915-9d34-6de9debc63dc"
      },
      "execution_count": null,
      "outputs": [
        {
          "output_type": "execute_result",
          "data": {
            "text/plain": [
              "LinearRegression()"
            ],
            "text/html": [
              "<style>#sk-container-id-2 {color: black;background-color: white;}#sk-container-id-2 pre{padding: 0;}#sk-container-id-2 div.sk-toggleable {background-color: white;}#sk-container-id-2 label.sk-toggleable__label {cursor: pointer;display: block;width: 100%;margin-bottom: 0;padding: 0.3em;box-sizing: border-box;text-align: center;}#sk-container-id-2 label.sk-toggleable__label-arrow:before {content: \"▸\";float: left;margin-right: 0.25em;color: #696969;}#sk-container-id-2 label.sk-toggleable__label-arrow:hover:before {color: black;}#sk-container-id-2 div.sk-estimator:hover label.sk-toggleable__label-arrow:before {color: black;}#sk-container-id-2 div.sk-toggleable__content {max-height: 0;max-width: 0;overflow: hidden;text-align: left;background-color: #f0f8ff;}#sk-container-id-2 div.sk-toggleable__content pre {margin: 0.2em;color: black;border-radius: 0.25em;background-color: #f0f8ff;}#sk-container-id-2 input.sk-toggleable__control:checked~div.sk-toggleable__content {max-height: 200px;max-width: 100%;overflow: auto;}#sk-container-id-2 input.sk-toggleable__control:checked~label.sk-toggleable__label-arrow:before {content: \"▾\";}#sk-container-id-2 div.sk-estimator input.sk-toggleable__control:checked~label.sk-toggleable__label {background-color: #d4ebff;}#sk-container-id-2 div.sk-label input.sk-toggleable__control:checked~label.sk-toggleable__label {background-color: #d4ebff;}#sk-container-id-2 input.sk-hidden--visually {border: 0;clip: rect(1px 1px 1px 1px);clip: rect(1px, 1px, 1px, 1px);height: 1px;margin: -1px;overflow: hidden;padding: 0;position: absolute;width: 1px;}#sk-container-id-2 div.sk-estimator {font-family: monospace;background-color: #f0f8ff;border: 1px dotted black;border-radius: 0.25em;box-sizing: border-box;margin-bottom: 0.5em;}#sk-container-id-2 div.sk-estimator:hover {background-color: #d4ebff;}#sk-container-id-2 div.sk-parallel-item::after {content: \"\";width: 100%;border-bottom: 1px solid gray;flex-grow: 1;}#sk-container-id-2 div.sk-label:hover label.sk-toggleable__label {background-color: #d4ebff;}#sk-container-id-2 div.sk-serial::before {content: \"\";position: absolute;border-left: 1px solid gray;box-sizing: border-box;top: 0;bottom: 0;left: 50%;z-index: 0;}#sk-container-id-2 div.sk-serial {display: flex;flex-direction: column;align-items: center;background-color: white;padding-right: 0.2em;padding-left: 0.2em;position: relative;}#sk-container-id-2 div.sk-item {position: relative;z-index: 1;}#sk-container-id-2 div.sk-parallel {display: flex;align-items: stretch;justify-content: center;background-color: white;position: relative;}#sk-container-id-2 div.sk-item::before, #sk-container-id-2 div.sk-parallel-item::before {content: \"\";position: absolute;border-left: 1px solid gray;box-sizing: border-box;top: 0;bottom: 0;left: 50%;z-index: -1;}#sk-container-id-2 div.sk-parallel-item {display: flex;flex-direction: column;z-index: 1;position: relative;background-color: white;}#sk-container-id-2 div.sk-parallel-item:first-child::after {align-self: flex-end;width: 50%;}#sk-container-id-2 div.sk-parallel-item:last-child::after {align-self: flex-start;width: 50%;}#sk-container-id-2 div.sk-parallel-item:only-child::after {width: 0;}#sk-container-id-2 div.sk-dashed-wrapped {border: 1px dashed gray;margin: 0 0.4em 0.5em 0.4em;box-sizing: border-box;padding-bottom: 0.4em;background-color: white;}#sk-container-id-2 div.sk-label label {font-family: monospace;font-weight: bold;display: inline-block;line-height: 1.2em;}#sk-container-id-2 div.sk-label-container {text-align: center;}#sk-container-id-2 div.sk-container {/* jupyter's `normalize.less` sets `[hidden] { display: none; }` but bootstrap.min.css set `[hidden] { display: none !important; }` so we also need the `!important` here to be able to override the default hidden behavior on the sphinx rendered scikit-learn.org. See: https://github.com/scikit-learn/scikit-learn/issues/21755 */display: inline-block !important;position: relative;}#sk-container-id-2 div.sk-text-repr-fallback {display: none;}</style><div id=\"sk-container-id-2\" class=\"sk-top-container\"><div class=\"sk-text-repr-fallback\"><pre>LinearRegression()</pre><b>In a Jupyter environment, please rerun this cell to show the HTML representation or trust the notebook. <br />On GitHub, the HTML representation is unable to render, please try loading this page with nbviewer.org.</b></div><div class=\"sk-container\" hidden><div class=\"sk-item\"><div class=\"sk-estimator sk-toggleable\"><input class=\"sk-toggleable__control sk-hidden--visually\" id=\"sk-estimator-id-2\" type=\"checkbox\" checked><label for=\"sk-estimator-id-2\" class=\"sk-toggleable__label sk-toggleable__label-arrow\">LinearRegression</label><div class=\"sk-toggleable__content\"><pre>LinearRegression()</pre></div></div></div></div></div>"
            ]
          },
          "metadata": {},
          "execution_count": 46
        }
      ]
    },
    {
      "cell_type": "code",
      "source": [
        "print(\"Coefficient : \",model1.coef_)\n",
        "print(\"Intercept : \",model1.intercept_)"
      ],
      "metadata": {
        "colab": {
          "base_uri": "https://localhost:8080/"
        },
        "id": "nKrlunlzZ2Eg",
        "outputId": "20cebf94-6027-4bf2-b82c-d0cd362e82c8"
      },
      "execution_count": null,
      "outputs": [
        {
          "output_type": "stream",
          "name": "stdout",
          "text": [
            "Coefficient :  [[0.03784075]]\n",
            "Intercept :  [157.41409613]\n"
          ]
        }
      ]
    },
    {
      "cell_type": "code",
      "source": [
        "testWeight = pd.DataFrame(np.random.randint(50,70,size=45))\n",
        "print(testWeight)"
      ],
      "metadata": {
        "colab": {
          "base_uri": "https://localhost:8080/"
        },
        "id": "qhaieztpZ2CB",
        "outputId": "b0676469-3a6b-49e5-d227-5f0a450e53b0"
      },
      "execution_count": null,
      "outputs": [
        {
          "output_type": "stream",
          "name": "stdout",
          "text": [
            "     0\n",
            "0   60\n",
            "1   63\n",
            "2   61\n",
            "3   67\n",
            "4   53\n",
            "5   59\n",
            "6   64\n",
            "7   66\n",
            "8   52\n",
            "9   53\n",
            "10  62\n",
            "11  60\n",
            "12  58\n",
            "13  53\n",
            "14  51\n",
            "15  61\n",
            "16  56\n",
            "17  60\n",
            "18  57\n",
            "19  54\n",
            "20  68\n",
            "21  56\n",
            "22  58\n",
            "23  58\n",
            "24  64\n",
            "25  58\n",
            "26  67\n",
            "27  57\n",
            "28  50\n",
            "29  52\n",
            "30  50\n",
            "31  50\n",
            "32  65\n",
            "33  67\n",
            "34  52\n",
            "35  62\n",
            "36  57\n",
            "37  57\n",
            "38  52\n",
            "39  66\n",
            "40  56\n",
            "41  59\n",
            "42  56\n",
            "43  51\n",
            "44  65\n"
          ]
        }
      ]
    },
    {
      "cell_type": "code",
      "source": [
        "outputHeight = pd.DataFrame(model1.predict(testWeight))\n",
        "# outputHeight = pd.DataFrame(outputHeight)\n",
        "print(outputHeight)"
      ],
      "metadata": {
        "colab": {
          "base_uri": "https://localhost:8080/"
        },
        "id": "GNmqPY-iZ1_E",
        "outputId": "5e6c1c39-bcbc-4d8d-a391-b7a3c2c1c3b9"
      },
      "execution_count": null,
      "outputs": [
        {
          "output_type": "stream",
          "name": "stdout",
          "text": [
            "             0\n",
            "0   159.835904\n",
            "1   159.646700\n",
            "2   159.911585\n",
            "3   159.684541\n",
            "4   159.495337\n",
            "5   159.987267\n",
            "6   159.306133\n",
            "7   159.987267\n",
            "8   159.646700\n",
            "9   159.646700\n",
            "10  159.949426\n",
            "11  159.684541\n",
            "12  159.760222\n",
            "13  159.873745\n",
            "14  159.949426\n",
            "15  159.419656\n",
            "16  160.025108\n",
            "17  159.684541\n",
            "18  159.306133\n",
            "19  159.987267\n",
            "20  159.911585\n",
            "21  159.798063\n",
            "22  159.949426\n",
            "23  159.798063\n",
            "24  159.798063\n",
            "25  159.760222\n",
            "26  159.911585\n",
            "27  159.571019\n",
            "28  159.835904\n",
            "29  159.571019\n",
            "30  159.987267\n",
            "31  159.949426\n",
            "32  159.911585\n",
            "33  159.419656\n",
            "34  159.760222\n",
            "35  159.533178\n",
            "36  159.987267\n",
            "37  159.987267\n",
            "38  159.646700\n",
            "39  160.025108\n",
            "40  159.646700\n",
            "41  159.684541\n",
            "42  159.684541\n",
            "43  159.873745\n",
            "44  159.343974\n"
          ]
        }
      ]
    },
    {
      "cell_type": "code",
      "source": [
        "outputHeight = outputHeight.astype(int)\n",
        "finalOutput = pd.merge(testWeight, outputHeight)"
      ],
      "metadata": {
        "id": "J75uPf46Z18D"
      },
      "execution_count": 72,
      "outputs": []
    },
    {
      "cell_type": "code",
      "source": [],
      "metadata": {
        "id": "x97QVxR6Z144"
      },
      "execution_count": 71,
      "outputs": []
    },
    {
      "cell_type": "code",
      "source": [],
      "metadata": {
        "id": "nXg725xKZ1vh"
      },
      "execution_count": 72,
      "outputs": []
    }
  ]
}